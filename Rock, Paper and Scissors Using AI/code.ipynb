{
 "cells": [
  {
   "cell_type": "code",
   "execution_count": 80,
   "metadata": {},
   "outputs": [],
   "source": [
    "from datetime import datetime, timedelta\n",
    "import mediapipe as mp\n",
    "import pandas as pd\n",
    "import numpy as np\n",
    "import random\n",
    "import cvzone\n",
    "import time\n",
    "import cv2\n",
    "import os"
   ]
  },
  {
   "cell_type": "code",
   "execution_count": 81,
   "metadata": {},
   "outputs": [],
   "source": [
    "def HandTracker():\n",
    "    \"\"\"\n",
    "    Function that returns hand tracker object\n",
    "    \"\"\"\n",
    "    mp_drawings = mp.solutions.drawing_utils\n",
    "    mp_hands = mp.solutions.hands\n",
    "    hand_tracker = mp_hands.Hands(max_num_hands=1, min_detection_confidence=0.8, min_tracking_confidence=0.5)\n",
    "    return hand_tracker"
   ]
  },
  {
   "cell_type": "code",
   "execution_count": 82,
   "metadata": {},
   "outputs": [],
   "source": [
    "def drawLandMarks(results, image):\n",
    "    \"\"\"\n",
    "    Function that draws land marks\n",
    "    \"\"\"\n",
    "    mp_drawings = mp.solutions.drawing_utils\n",
    "    mp_hands = mp.solutions.hands\n",
    "    if results.multi_hand_landmarks:\n",
    "        for num, hand in enumerate(results.multi_hand_landmarks):\n",
    "            mp_drawings.draw_landmarks(image, hand, mp_hands.HAND_CONNECTIONS,\n",
    "            # Joints Color\n",
    "            mp_drawings.DrawingSpec(color=(121, 22, 76), thickness=4, circle_radius=6),\n",
    "            # Line Color\n",
    "            mp_drawings.DrawingSpec(color=(121, 44, 250), thickness=10, circle_radius=2))\n",
    "    return image"
   ]
  },
  {
   "cell_type": "code",
   "execution_count": 83,
   "metadata": {},
   "outputs": [],
   "source": [
    "INDEX_UP = 8\n",
    "INDEX_DOWN = 6\n",
    "MIDDLE_FINGER_UP = 12\n",
    "MIDDLE_FINGER_DOWN = 10\n",
    "RING_FINGER_UP = 16\n",
    "RING_FINGER_DOWN = 14\n",
    "PINKY_UP = 20\n",
    "PINKY_DOWN = 18\n",
    "THUMB_UP = 4\n",
    "THUMB_DOWN = 2"
   ]
  },
  {
   "cell_type": "markdown",
   "metadata": {},
   "source": [
    "### For Index Finger"
   ]
  },
  {
   "cell_type": "code",
   "execution_count": 84,
   "metadata": {},
   "outputs": [],
   "source": [
    "def checkIndex(results):\n",
    "    condition = False\n",
    "    if results.multi_hand_landmarks:\n",
    "        UP = results.multi_hand_landmarks[0].landmark[INDEX_UP].y\n",
    "        DOWN = results.multi_hand_landmarks[0].landmark[INDEX_DOWN].y\n",
    "\n",
    "        if UP < DOWN:\n",
    "            condition = True\n",
    "        \n",
    "        if UP > DOWN:\n",
    "            condition = False\n",
    "    return condition"
   ]
  },
  {
   "cell_type": "markdown",
   "metadata": {},
   "source": [
    "### For Middle Finger"
   ]
  },
  {
   "cell_type": "code",
   "execution_count": 85,
   "metadata": {},
   "outputs": [],
   "source": [
    "def checkMiddle(results):\n",
    "    condition = False\n",
    "    if results.multi_hand_landmarks:\n",
    "        UP = results.multi_hand_landmarks[0].landmark[MIDDLE_FINGER_UP].y\n",
    "        DOWN = results.multi_hand_landmarks[0].landmark[MIDDLE_FINGER_DOWN].y\n",
    "\n",
    "        if UP < DOWN:\n",
    "            condition = True\n",
    "        \n",
    "        if UP > DOWN:\n",
    "            condition = False\n",
    "    return condition"
   ]
  },
  {
   "cell_type": "markdown",
   "metadata": {},
   "source": [
    "### For Ring Finger"
   ]
  },
  {
   "cell_type": "code",
   "execution_count": 86,
   "metadata": {},
   "outputs": [],
   "source": [
    "def checkRing(results):\n",
    "    condition = False\n",
    "    if results.multi_hand_landmarks:\n",
    "        UP = results.multi_hand_landmarks[0].landmark[RING_FINGER_UP].y\n",
    "        DOWN = results.multi_hand_landmarks[0].landmark[RING_FINGER_DOWN].y\n",
    "\n",
    "        if UP < DOWN:\n",
    "            condition = True\n",
    "        \n",
    "        if UP > DOWN:\n",
    "            condition = False\n",
    "    return condition"
   ]
  },
  {
   "cell_type": "markdown",
   "metadata": {},
   "source": [
    "### For Pinky Finger"
   ]
  },
  {
   "cell_type": "code",
   "execution_count": 87,
   "metadata": {},
   "outputs": [],
   "source": [
    "def checkPinky(results):\n",
    "    condition = False\n",
    "    if results.multi_hand_landmarks:\n",
    "        UP = results.multi_hand_landmarks[0].landmark[PINKY_UP].y\n",
    "        DOWN = results.multi_hand_landmarks[0].landmark[PINKY_DOWN].y\n",
    "\n",
    "        if UP < DOWN:\n",
    "            condition = True\n",
    "        \n",
    "        if UP > DOWN:\n",
    "            condition = False\n",
    "    return condition"
   ]
  },
  {
   "cell_type": "markdown",
   "metadata": {},
   "source": [
    "### For Thumb"
   ]
  },
  {
   "cell_type": "code",
   "execution_count": 88,
   "metadata": {},
   "outputs": [],
   "source": [
    "def checkThumb(results):\n",
    "    condition = False\n",
    "    if results.multi_hand_landmarks:\n",
    "        UP = results.multi_hand_landmarks[0].landmark[THUMB_UP].x\n",
    "        DOWN = results.multi_hand_landmarks[0].landmark[THUMB_DOWN].x\n",
    "\n",
    "        if UP < DOWN:\n",
    "            condition = True\n",
    "        \n",
    "        if UP > DOWN:\n",
    "            condition = False\n",
    "    return condition"
   ]
  },
  {
   "cell_type": "markdown",
   "metadata": {},
   "source": [
    "### Image Loader"
   ]
  },
  {
   "cell_type": "code",
   "execution_count": 89,
   "metadata": {},
   "outputs": [],
   "source": [
    "def load_image(image_path):\n",
    "    image = cv2.imread(image_path)\n",
    "    image = cv2.resize(image, (480, 480))\n",
    "    return image"
   ]
  },
  {
   "cell_type": "markdown",
   "metadata": {},
   "source": [
    "### Text"
   ]
  },
  {
   "cell_type": "code",
   "execution_count": 90,
   "metadata": {},
   "outputs": [],
   "source": [
    "font = cv2.FONT_HERSHEY_SIMPLEX\n",
    "org = (50, 50) \n",
    "fontScale = 2 \n",
    "color = (255, 255, 0)\n",
    "thickness = 2"
   ]
  },
  {
   "cell_type": "markdown",
   "metadata": {},
   "source": [
    "### Main Function"
   ]
  },
  {
   "cell_type": "code",
   "execution_count": 91,
   "metadata": {},
   "outputs": [
    {
     "name": "stdout",
     "output_type": "stream",
     "text": [
      "Paper paper 0 0\n",
      "Scissors rock 0 1\n",
      "Rock rock 0 1\n",
      "Rock rock 0 1\n",
      "Paper rock 1 1\n",
      "Paper scissors 1 2\n"
     ]
    }
   ],
   "source": [
    "hand_tracker = HandTracker()\n",
    "stream = cv2.VideoCapture(0)\n",
    "counter = 50\n",
    "counterCX = 0\n",
    "images = ['rock.png', 'paper.png', 'scissors.png']\n",
    "string = \"\"\n",
    "sign = \"Select sign in \"\n",
    "r_image = None\n",
    "ai_points = 0\n",
    "computer_points = 0\n",
    "r_tag = \"\"\n",
    "window_name = \"Rock, Paper and Scissors Game using AI\"\n",
    "\n",
    "\n",
    "cv2.namedWindow(window_name, cv2.WINDOW_NORMAL);\n",
    "cv2.setWindowProperty(window_name, cv2.WND_PROP_FULLSCREEN, cv2.WINDOW_FULLSCREEN);\n",
    "cv2.setWindowProperty(window_name, cv2.WND_PROP_TOPMOST, 1)\n",
    "\n",
    "\n",
    "while stream.isOpened():\n",
    "    ret, frame = stream.read()\n",
    "    \n",
    "    image = cv2.flip(frame, 1)\n",
    "    image = cv2.cvtColor(image, cv2.COLOR_BGR2RGB)\n",
    "    image.flags.writeable = False\n",
    "    results = hand_tracker.process(image)\n",
    "    image.flags.writeable = True\n",
    "    image = cv2.cvtColor(image, cv2.COLOR_RGB2BGR)\n",
    "    image = cv2.blur(image, (55, 55))\n",
    "    image = drawLandMarks(results, image)\n",
    "    index = checkIndex(results)\n",
    "    middle = checkMiddle(results)\n",
    "    ring = checkRing(results)\n",
    "    pinky = checkPinky(results)\n",
    "    thumb = checkThumb(results)\n",
    "    if results.multi_hand_landmarks:\n",
    "        if index and middle and not ring and not pinky and not thumb:\n",
    "            string = \"Scissors\"\n",
    "        elif index and middle and ring and pinky and thumb:\n",
    "            string = \"Paper\"\n",
    "        elif not index and not middle and not ring and not pinky and not thumb:\n",
    "            string = \"Rock\"\n",
    "        else:\n",
    "            string = \"Please correct your sign.\"\n",
    "    else:\n",
    "        string = \"No hand present.\"\n",
    "\n",
    "    image = cv2.putText(image, \"AI\", (20, 420), font, fontScale, (0, 0, 255), 3, cv2.LINE_AA)\n",
    "    \n",
    "    r_image = random.choice(images)\n",
    "    g_image = load_image(r_image)\n",
    "    r_tag = r_image.split(\".\")[0]\n",
    "    try:\n",
    "        image = cv2.putText(image, string, org, font, 1, color, thickness, cv2.LINE_AA)\n",
    "        g_image = cv2.putText(g_image, r_tag, org, font, 1, color, thickness, cv2.LINE_AA)\n",
    "        g_image = cv2.putText(g_image, \"Computer\", (20, 420), font, fontScale, (0, 0, 255), 3, cv2.LINE_AA)\n",
    "        compound = cvzone.stackImages([image, g_image], 2, 1)\n",
    "    except:\n",
    "        canvas = np.zeros([480, 480],dtype=np.uint8)\n",
    "        canvas.fill(255)\n",
    "        canvas = cv2.putText(canvas, r_tag, org, font, 1, color, thickness, cv2.LINE_AA)\n",
    "        canvas = cv2.putText(canvas, \"Computer\", (20, 420), font, fontScale, (0, 0, 255), 3, cv2.LINE_AA)\n",
    "        compound = cvzone.stackImages([image, canvas], 2, 1)\n",
    "\n",
    "\n",
    "    if counter == 0:\n",
    "        time.sleep(3)\n",
    "        try:\n",
    "            if (string.lower() == \"paper\") and (r_tag == \"rock\"):\n",
    "                ai_points = ai_points + 1\n",
    "            \n",
    "            if (string.lower() == \"rock\") and (r_tag == \"scissors\"):\n",
    "                ai_points = ai_points + 1\n",
    "\n",
    "            if (string.lower() == \"scissors\") and (r_tag == \"paper\"):\n",
    "                ai_points = ai_points + 1\n",
    "\n",
    "            if (string.lower() == \"paper\") and (r_tag == \"scissors\"):\n",
    "                computer_points = computer_points + 1\n",
    "\n",
    "            if (string.lower() == \"rock\") and (r_tag == \"paper\"):\n",
    "                computer_points = computer_points + 1\n",
    "\n",
    "            if (string.lower() == \"scissors\") and (r_tag == \"rock\"):\n",
    "                computer_points = computer_points + 1\n",
    "            \n",
    "            print(string, r_image.split(\".\")[0], ai_points, computer_points)\n",
    "        except:\n",
    "            print(None, None)\n",
    "        counter = 50\n",
    "    else:\n",
    "        sign = \"Select sign in \"\n",
    "        sign = sign+str(counter)+\" seconds.\"\n",
    "        counter = counter - 1\n",
    "    \n",
    "    compound = cv2.putText(compound, sign, (150, 420), font, 1, (121, 22, 76), 2, cv2.LINE_AA)\n",
    "    compound = cv2.putText(compound, f\"AI Points: {str(ai_points)}\", (5, 150), font, 1, (0, 0, 255), 2, cv2.LINE_AA)\n",
    "    compound = cv2.putText(compound, f\"Computer Points: {str(computer_points)}\", (5, 200), font, 1, (0, 0, 255), 2, cv2.LINE_AA)\n",
    "    cv2.imshow(window_name, compound)\n",
    "\n",
    "    if cv2.waitKey(1) & 0xFF == ord('q'):\n",
    "        break\n",
    "\n",
    "stream.release()\n",
    "cv2.destroyAllWindows()"
   ]
  },
  {
   "cell_type": "code",
   "execution_count": 79,
   "metadata": {},
   "outputs": [],
   "source": [
    "stream.release()\n",
    "cv2.destroyAllWindows()"
   ]
  },
  {
   "cell_type": "code",
   "execution_count": null,
   "metadata": {},
   "outputs": [],
   "source": []
  }
 ],
 "metadata": {
  "kernelspec": {
   "display_name": "Python 3.9.7 ('sultan')",
   "language": "python",
   "name": "python3"
  },
  "language_info": {
   "codemirror_mode": {
    "name": "ipython",
    "version": 3
   },
   "file_extension": ".py",
   "mimetype": "text/x-python",
   "name": "python",
   "nbconvert_exporter": "python",
   "pygments_lexer": "ipython3",
   "version": "3.9.7"
  },
  "orig_nbformat": 4,
  "vscode": {
   "interpreter": {
    "hash": "3e7b58007910334c28076fd0d5600e0ec701d50a799d6411e1df4ddee4aca385"
   }
  }
 },
 "nbformat": 4,
 "nbformat_minor": 2
}
